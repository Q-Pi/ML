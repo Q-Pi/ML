{
 "cells": [
  {
   "cell_type": "markdown",
   "metadata": {},
   "source": [
    "# ML - Supervised - Classification"
   ]
  },
  {
   "cell_type": "code",
   "execution_count": 302,
   "metadata": {},
   "outputs": [],
   "source": [
    "import pandas as pd\n",
    "import matplotlib.pyplot as plt\n",
    "import seaborn as sns\n",
    "import numpy as np\n",
    "\n",
    "from sklearn.model_selection import train_test_split as TTS\n",
    "from sklearn.pipeline import Pipeline\n",
    "from sklearn.model_selection import GridSearchCV\n",
    "from sklearn.decomposition import PCA\n",
    "from sklearn.neighbors import KNeighborsClassifier as KNN"
   ]
  },
  {
   "cell_type": "markdown",
   "metadata": {},
   "source": [
    "## Labelised Data"
   ]
  },
  {
   "cell_type": "code",
   "execution_count": 303,
   "metadata": {},
   "outputs": [],
   "source": [
    "#Chargement\n",
    "#df = pd.read_csv(\"data/filename.csv\")\n",
    "df = sns.load_dataset('iris')"
   ]
  },
  {
   "cell_type": "markdown",
   "metadata": {},
   "source": [
    "### Training"
   ]
  },
  {
   "cell_type": "code",
   "execution_count": 304,
   "metadata": {},
   "outputs": [],
   "source": [
    "#Isolation\n",
    "#target_feature_name = 'target_feature'\n",
    "target_feature_name = 'species'\n",
    "Y = df[target_feature_name]\n",
    "X = df.drop(columns=target_feature_name)"
   ]
  },
  {
   "cell_type": "code",
   "execution_count": 305,
   "metadata": {},
   "outputs": [],
   "source": [
    "#TTS\n",
    "X_tr, X_te, Y_tr, Y_te = TTS(X, Y, stratify=Y, random_state=314)"
   ]
  },
  {
   "cell_type": "code",
   "execution_count": 306,
   "metadata": {},
   "outputs": [],
   "source": [
    "#Pipeline\n",
    "pipeline_details = [('PCA', PCA(random_state=42)),\n",
    "                    ('KNN', KNN())]\n",
    "pipeline = Pipeline(steps=pipeline_details)"
   ]
  },
  {
   "cell_type": "code",
   "execution_count": 307,
   "metadata": {},
   "outputs": [
    {
     "name": "stdout",
     "output_type": "stream",
     "text": [
      "[1, 2, 3, 4]\n",
      "[1, 3, 5, 7, 9, 11, 13, 15, 17, 19, 21]\n",
      "{'PCA__n_components': [1, 2, 3, 4], 'KNN__n_neighbors': [1, 3, 5, 7, 9, 11, 13, 15, 17, 19, 21]}\n",
      "Meilleur score : 0.99091\n",
      "Meilleur paramètres : {'KNN__n_neighbors': 15, 'PCA__n_components': 4}\n"
     ]
    }
   ],
   "source": [
    "#GridSearchCV\n",
    "print([i for i in range(1, X_tr.shape[1] + 1)])\n",
    "print([i for i in range(1, 21 + 1, 2)])\n",
    "\n",
    "hyperparameters = {}\n",
    "hyperparameters['PCA__n_components'] = [i for i in range(1, X_tr.shape[1]+1)]\n",
    "hyperparameters['KNN__n_neighbors']  = [i for i in range(1, 21 +1, 2)]\n",
    "\n",
    "print(hyperparameters)\n",
    "\n",
    "hyperparameter_search = GridSearchCV(pipeline,\n",
    "                                     hyperparameters,\n",
    "                                     scoring='accuracy', \n",
    "                                     cv=5)\n",
    "\n",
    "hyperparameter_search.fit(X_tr, Y_tr)\n",
    "\n",
    "print('Meilleur score : {:.5f}'.format(hyperparameter_search.best_score_))\n",
    "print('Meilleur paramètres : {}'.format(hyperparameter_search.best_params_))"
   ]
  },
  {
   "cell_type": "code",
   "execution_count": 308,
   "metadata": {},
   "outputs": [],
   "source": [
    "#PCA\n",
    "N=hyperparameter_search.best_params_['PCA__n_components']\n",
    "pca = PCA(n_components=N)\n",
    "pca.fit(X_tr)\n",
    "X_tr_PCA = pca.transform(X_tr)\n",
    "X_te_PCA = pca.transform(X_te)"
   ]
  },
  {
   "cell_type": "code",
   "execution_count": 309,
   "metadata": {},
   "outputs": [
    {
     "data": {
      "text/plain": [
       "KNeighborsClassifier(n_neighbors=15)"
      ]
     },
     "execution_count": 309,
     "metadata": {},
     "output_type": "execute_result"
    }
   ],
   "source": [
    "#KNN\n",
    "N=hyperparameter_search.best_params_['KNN__n_neighbors']\n",
    "knn = KNN(n_neighbors=N)\n",
    "knn.fit(X_tr_PCA, Y_tr)"
   ]
  },
  {
   "cell_type": "code",
   "execution_count": 310,
   "metadata": {},
   "outputs": [
    {
     "name": "stdout",
     "output_type": "stream",
     "text": [
      "Accuracy : 0.3157894736842105\n"
     ]
    }
   ],
   "source": [
    "#Accuracy\n",
    "preds = knn.predict(X_te)\n",
    "accuracy = lambda p, y : (p==y).sum()/len(y)\n",
    "print('Accuracy : {}'.format(accuracy(preds, Y_te)))"
   ]
  },
  {
   "cell_type": "markdown",
   "metadata": {},
   "source": [
    "## Unlabelised Data"
   ]
  },
  {
   "cell_type": "code",
   "execution_count": 311,
   "metadata": {},
   "outputs": [],
   "source": [
    "#Chargement\n",
    "#df = pd.read_csv(\"data/filename.csv\")\n",
    "df = pd.DataFrame(X_te_PCA)"
   ]
  },
  {
   "cell_type": "markdown",
   "metadata": {},
   "source": [
    "### Prediction"
   ]
  },
  {
   "cell_type": "code",
   "execution_count": 312,
   "metadata": {},
   "outputs": [],
   "source": [
    "#KNN\n",
    "preds = knn.predict(df)\n",
    "df['Predictions'] = preds"
   ]
  },
  {
   "cell_type": "markdown",
   "metadata": {},
   "source": [
    "## Result"
   ]
  },
  {
   "cell_type": "code",
   "execution_count": 313,
   "metadata": {},
   "outputs": [],
   "source": [
    "#df"
   ]
  },
  {
   "cell_type": "code",
   "execution_count": 314,
   "metadata": {},
   "outputs": [],
   "source": [
    "df = df.drop(columns='Predictions')"
   ]
  },
  {
   "cell_type": "code",
   "execution_count": 315,
   "metadata": {},
   "outputs": [
    {
     "name": "stdout",
     "output_type": "stream",
     "text": [
      "          0         1         2         3\n",
      "2  1.363608 -0.404683  0.045669  0.198818\n",
      "3 -2.567370  0.552244 -0.066586  0.028245\n",
      "4 -2.886608  0.021055 -0.160340 -0.164462\n",
      "5  1.257516  0.644915 -0.489204 -0.027015\n",
      "6 -3.013032 -0.344942  0.239463  0.080936\n",
      "7  0.514276 -1.126970  0.656221  0.134302\n",
      "8 -2.655977 -0.160104 -0.119918 -0.014939\n",
      "9  0.645019 -0.310415  0.353463  0.201254\n",
      "[[0.         0.26666667 0.73333333]\n",
      " [1.         0.         0.        ]\n",
      " [1.         0.         0.        ]\n",
      " [0.         0.66666667 0.33333333]\n",
      " [1.         0.         0.        ]\n",
      " [0.         0.8        0.2       ]\n",
      " [1.         0.         0.        ]\n",
      " [0.         0.93333333 0.06666667]]\n",
      "setosa \t\t= [0.         0.26666667 0.73333333]\n",
      "versicolor \t= [1. 0. 0.]\n",
      "virginica \t= [1. 0. 0.]\n"
     ]
    }
   ],
   "source": [
    "unknow_iris = df[2:10]\n",
    "print(unknow_iris)\n",
    "proba = knn.predict_proba(unknow_iris)#[0]\n",
    "print(proba)\n",
    "print(\"setosa \\t\\t= {}\\nversicolor \\t= {}\\nvirginica \\t= {}\".format(proba[0], proba[1], proba[2]))"
   ]
  }
 ],
 "metadata": {
  "kernelspec": {
   "display_name": "Python 3",
   "language": "python",
   "name": "python3"
  },
  "language_info": {
   "codemirror_mode": {
    "name": "ipython",
    "version": 3
   },
   "file_extension": ".py",
   "mimetype": "text/x-python",
   "name": "python",
   "nbconvert_exporter": "python",
   "pygments_lexer": "ipython3",
   "version": "3.6.9"
  }
 },
 "nbformat": 4,
 "nbformat_minor": 2
}
