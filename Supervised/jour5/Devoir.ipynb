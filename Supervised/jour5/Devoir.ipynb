{
 "cells": [
  {
   "cell_type": "markdown",
   "metadata": {},
   "source": [
    "# ML - Supervised - Classification - RandomForest"
   ]
  },
  {
   "cell_type": "code",
   "execution_count": 79,
   "metadata": {},
   "outputs": [],
   "source": [
    "import pandas as pd\n",
    "import matplotlib.pyplot as plt\n",
    "import seaborn as sns\n",
    "import numpy as np\n",
    "\n",
    "import sqlite3\n",
    "from sklearn.preprocessing import LabelEncoder as LE\n",
    "from sklearn.model_selection import train_test_split as TTS\n",
    "from sklearn.pipeline import Pipeline\n",
    "from sklearn.model_selection import GridSearchCV\n",
    "from sklearn.decomposition import PCA\n",
    "from sklearn.ensemble import RandomForestClassifier as RF"
   ]
  },
  {
   "cell_type": "markdown",
   "metadata": {},
   "source": [
    "## Labelised Data"
   ]
  },
  {
   "cell_type": "markdown",
   "metadata": {},
   "source": [
    "### DataSets: Fraud_Data.csv & IpAddress_to_Country "
   ]
  },
  {
   "cell_type": "code",
   "execution_count": 80,
   "metadata": {},
   "outputs": [
    {
     "data": {
      "text/html": [
       "<div>\n",
       "<style scoped>\n",
       "    .dataframe tbody tr th:only-of-type {\n",
       "        vertical-align: middle;\n",
       "    }\n",
       "\n",
       "    .dataframe tbody tr th {\n",
       "        vertical-align: top;\n",
       "    }\n",
       "\n",
       "    .dataframe thead th {\n",
       "        text-align: right;\n",
       "    }\n",
       "</style>\n",
       "<table border=\"1\" class=\"dataframe\">\n",
       "  <thead>\n",
       "    <tr style=\"text-align: right;\">\n",
       "      <th></th>\n",
       "      <th>user_id</th>\n",
       "      <th>signup_time</th>\n",
       "      <th>purchase_time</th>\n",
       "      <th>purchase_value</th>\n",
       "      <th>device_id</th>\n",
       "      <th>source</th>\n",
       "      <th>browser</th>\n",
       "      <th>sex</th>\n",
       "      <th>age</th>\n",
       "      <th>ip_address</th>\n",
       "      <th>class</th>\n",
       "    </tr>\n",
       "  </thead>\n",
       "  <tbody>\n",
       "    <tr>\n",
       "      <th>0</th>\n",
       "      <td>22058</td>\n",
       "      <td>2015-02-24 22:55:49</td>\n",
       "      <td>2015-04-18 02:47:11</td>\n",
       "      <td>34</td>\n",
       "      <td>QVPSPJUOCKZAR</td>\n",
       "      <td>SEO</td>\n",
       "      <td>Chrome</td>\n",
       "      <td>M</td>\n",
       "      <td>39</td>\n",
       "      <td>7.327584e+08</td>\n",
       "      <td>0</td>\n",
       "    </tr>\n",
       "    <tr>\n",
       "      <th>1</th>\n",
       "      <td>333320</td>\n",
       "      <td>2015-06-07 20:39:50</td>\n",
       "      <td>2015-06-08 01:38:54</td>\n",
       "      <td>16</td>\n",
       "      <td>EOGFQPIZPYXFZ</td>\n",
       "      <td>Ads</td>\n",
       "      <td>Chrome</td>\n",
       "      <td>F</td>\n",
       "      <td>53</td>\n",
       "      <td>3.503114e+08</td>\n",
       "      <td>0</td>\n",
       "    </tr>\n",
       "    <tr>\n",
       "      <th>2</th>\n",
       "      <td>1359</td>\n",
       "      <td>2015-01-01 18:52:44</td>\n",
       "      <td>2015-01-01 18:52:45</td>\n",
       "      <td>15</td>\n",
       "      <td>YSSKYOSJHPPLJ</td>\n",
       "      <td>SEO</td>\n",
       "      <td>Opera</td>\n",
       "      <td>M</td>\n",
       "      <td>53</td>\n",
       "      <td>2.621474e+09</td>\n",
       "      <td>1</td>\n",
       "    </tr>\n",
       "    <tr>\n",
       "      <th>3</th>\n",
       "      <td>150084</td>\n",
       "      <td>2015-04-28 21:13:25</td>\n",
       "      <td>2015-05-04 13:54:50</td>\n",
       "      <td>44</td>\n",
       "      <td>ATGTXKYKUDUQN</td>\n",
       "      <td>SEO</td>\n",
       "      <td>Safari</td>\n",
       "      <td>M</td>\n",
       "      <td>41</td>\n",
       "      <td>3.840542e+09</td>\n",
       "      <td>0</td>\n",
       "    </tr>\n",
       "    <tr>\n",
       "      <th>4</th>\n",
       "      <td>221365</td>\n",
       "      <td>2015-07-21 07:09:52</td>\n",
       "      <td>2015-09-09 18:40:53</td>\n",
       "      <td>39</td>\n",
       "      <td>NAUITBZFJKHWW</td>\n",
       "      <td>Ads</td>\n",
       "      <td>Safari</td>\n",
       "      <td>M</td>\n",
       "      <td>45</td>\n",
       "      <td>4.155831e+08</td>\n",
       "      <td>0</td>\n",
       "    </tr>\n",
       "    <tr>\n",
       "      <th>...</th>\n",
       "      <td>...</td>\n",
       "      <td>...</td>\n",
       "      <td>...</td>\n",
       "      <td>...</td>\n",
       "      <td>...</td>\n",
       "      <td>...</td>\n",
       "      <td>...</td>\n",
       "      <td>...</td>\n",
       "      <td>...</td>\n",
       "      <td>...</td>\n",
       "      <td>...</td>\n",
       "    </tr>\n",
       "    <tr>\n",
       "      <th>151107</th>\n",
       "      <td>345170</td>\n",
       "      <td>2015-01-27 03:03:34</td>\n",
       "      <td>2015-03-29 00:30:47</td>\n",
       "      <td>43</td>\n",
       "      <td>XPSKTWGPWINLR</td>\n",
       "      <td>SEO</td>\n",
       "      <td>Chrome</td>\n",
       "      <td>M</td>\n",
       "      <td>28</td>\n",
       "      <td>3.451155e+09</td>\n",
       "      <td>1</td>\n",
       "    </tr>\n",
       "    <tr>\n",
       "      <th>151108</th>\n",
       "      <td>274471</td>\n",
       "      <td>2015-05-15 17:43:29</td>\n",
       "      <td>2015-05-26 12:24:39</td>\n",
       "      <td>35</td>\n",
       "      <td>LYSFABUCPCGBA</td>\n",
       "      <td>SEO</td>\n",
       "      <td>Safari</td>\n",
       "      <td>M</td>\n",
       "      <td>32</td>\n",
       "      <td>2.439047e+09</td>\n",
       "      <td>0</td>\n",
       "    </tr>\n",
       "    <tr>\n",
       "      <th>151109</th>\n",
       "      <td>368416</td>\n",
       "      <td>2015-03-03 23:07:31</td>\n",
       "      <td>2015-05-20 07:07:47</td>\n",
       "      <td>40</td>\n",
       "      <td>MEQHCSJUBRBFE</td>\n",
       "      <td>SEO</td>\n",
       "      <td>IE</td>\n",
       "      <td>F</td>\n",
       "      <td>26</td>\n",
       "      <td>2.748471e+09</td>\n",
       "      <td>0</td>\n",
       "    </tr>\n",
       "    <tr>\n",
       "      <th>151110</th>\n",
       "      <td>207709</td>\n",
       "      <td>2015-07-09 20:06:07</td>\n",
       "      <td>2015-09-07 09:34:46</td>\n",
       "      <td>46</td>\n",
       "      <td>CMCXFGRHYSTVJ</td>\n",
       "      <td>SEO</td>\n",
       "      <td>Chrome</td>\n",
       "      <td>M</td>\n",
       "      <td>37</td>\n",
       "      <td>3.601175e+09</td>\n",
       "      <td>0</td>\n",
       "    </tr>\n",
       "    <tr>\n",
       "      <th>151111</th>\n",
       "      <td>138208</td>\n",
       "      <td>2015-06-10 07:02:20</td>\n",
       "      <td>2015-07-21 02:03:53</td>\n",
       "      <td>20</td>\n",
       "      <td>ZINIADFCLHYPG</td>\n",
       "      <td>Direct</td>\n",
       "      <td>IE</td>\n",
       "      <td>M</td>\n",
       "      <td>38</td>\n",
       "      <td>4.103825e+09</td>\n",
       "      <td>0</td>\n",
       "    </tr>\n",
       "  </tbody>\n",
       "</table>\n",
       "<p>151112 rows × 11 columns</p>\n",
       "</div>"
      ],
      "text/plain": [
       "        user_id          signup_time        purchase_time  purchase_value  \\\n",
       "0         22058  2015-02-24 22:55:49  2015-04-18 02:47:11              34   \n",
       "1        333320  2015-06-07 20:39:50  2015-06-08 01:38:54              16   \n",
       "2          1359  2015-01-01 18:52:44  2015-01-01 18:52:45              15   \n",
       "3        150084  2015-04-28 21:13:25  2015-05-04 13:54:50              44   \n",
       "4        221365  2015-07-21 07:09:52  2015-09-09 18:40:53              39   \n",
       "...         ...                  ...                  ...             ...   \n",
       "151107   345170  2015-01-27 03:03:34  2015-03-29 00:30:47              43   \n",
       "151108   274471  2015-05-15 17:43:29  2015-05-26 12:24:39              35   \n",
       "151109   368416  2015-03-03 23:07:31  2015-05-20 07:07:47              40   \n",
       "151110   207709  2015-07-09 20:06:07  2015-09-07 09:34:46              46   \n",
       "151111   138208  2015-06-10 07:02:20  2015-07-21 02:03:53              20   \n",
       "\n",
       "            device_id  source browser sex  age    ip_address  class  \n",
       "0       QVPSPJUOCKZAR     SEO  Chrome   M   39  7.327584e+08      0  \n",
       "1       EOGFQPIZPYXFZ     Ads  Chrome   F   53  3.503114e+08      0  \n",
       "2       YSSKYOSJHPPLJ     SEO   Opera   M   53  2.621474e+09      1  \n",
       "3       ATGTXKYKUDUQN     SEO  Safari   M   41  3.840542e+09      0  \n",
       "4       NAUITBZFJKHWW     Ads  Safari   M   45  4.155831e+08      0  \n",
       "...               ...     ...     ...  ..  ...           ...    ...  \n",
       "151107  XPSKTWGPWINLR     SEO  Chrome   M   28  3.451155e+09      1  \n",
       "151108  LYSFABUCPCGBA     SEO  Safari   M   32  2.439047e+09      0  \n",
       "151109  MEQHCSJUBRBFE     SEO      IE   F   26  2.748471e+09      0  \n",
       "151110  CMCXFGRHYSTVJ     SEO  Chrome   M   37  3.601175e+09      0  \n",
       "151111  ZINIADFCLHYPG  Direct      IE   M   38  4.103825e+09      0  \n",
       "\n",
       "[151112 rows x 11 columns]"
      ]
     },
     "execution_count": 80,
     "metadata": {},
     "output_type": "execute_result"
    }
   ],
   "source": [
    "df1 = pd.read_csv('data/Fraud_Data.csv')\n",
    "df1"
   ]
  },
  {
   "cell_type": "code",
   "execution_count": 81,
   "metadata": {
    "scrolled": false
   },
   "outputs": [
    {
     "data": {
      "text/html": [
       "<div>\n",
       "<style scoped>\n",
       "    .dataframe tbody tr th:only-of-type {\n",
       "        vertical-align: middle;\n",
       "    }\n",
       "\n",
       "    .dataframe tbody tr th {\n",
       "        vertical-align: top;\n",
       "    }\n",
       "\n",
       "    .dataframe thead th {\n",
       "        text-align: right;\n",
       "    }\n",
       "</style>\n",
       "<table border=\"1\" class=\"dataframe\">\n",
       "  <thead>\n",
       "    <tr style=\"text-align: right;\">\n",
       "      <th></th>\n",
       "      <th>lower_bound_ip_address</th>\n",
       "      <th>upper_bound_ip_address</th>\n",
       "      <th>country</th>\n",
       "    </tr>\n",
       "  </thead>\n",
       "  <tbody>\n",
       "    <tr>\n",
       "      <th>0</th>\n",
       "      <td>1.677722e+07</td>\n",
       "      <td>16777471</td>\n",
       "      <td>Australia</td>\n",
       "    </tr>\n",
       "    <tr>\n",
       "      <th>1</th>\n",
       "      <td>1.677747e+07</td>\n",
       "      <td>16777727</td>\n",
       "      <td>China</td>\n",
       "    </tr>\n",
       "    <tr>\n",
       "      <th>2</th>\n",
       "      <td>1.677773e+07</td>\n",
       "      <td>16778239</td>\n",
       "      <td>China</td>\n",
       "    </tr>\n",
       "    <tr>\n",
       "      <th>3</th>\n",
       "      <td>1.677824e+07</td>\n",
       "      <td>16779263</td>\n",
       "      <td>Australia</td>\n",
       "    </tr>\n",
       "    <tr>\n",
       "      <th>4</th>\n",
       "      <td>1.677926e+07</td>\n",
       "      <td>16781311</td>\n",
       "      <td>China</td>\n",
       "    </tr>\n",
       "    <tr>\n",
       "      <th>...</th>\n",
       "      <td>...</td>\n",
       "      <td>...</td>\n",
       "      <td>...</td>\n",
       "    </tr>\n",
       "    <tr>\n",
       "      <th>138841</th>\n",
       "      <td>3.758092e+09</td>\n",
       "      <td>3758093311</td>\n",
       "      <td>Hong Kong</td>\n",
       "    </tr>\n",
       "    <tr>\n",
       "      <th>138842</th>\n",
       "      <td>3.758093e+09</td>\n",
       "      <td>3758094335</td>\n",
       "      <td>India</td>\n",
       "    </tr>\n",
       "    <tr>\n",
       "      <th>138843</th>\n",
       "      <td>3.758095e+09</td>\n",
       "      <td>3758095871</td>\n",
       "      <td>China</td>\n",
       "    </tr>\n",
       "    <tr>\n",
       "      <th>138844</th>\n",
       "      <td>3.758096e+09</td>\n",
       "      <td>3758096127</td>\n",
       "      <td>Singapore</td>\n",
       "    </tr>\n",
       "    <tr>\n",
       "      <th>138845</th>\n",
       "      <td>3.758096e+09</td>\n",
       "      <td>3758096383</td>\n",
       "      <td>Australia</td>\n",
       "    </tr>\n",
       "  </tbody>\n",
       "</table>\n",
       "<p>138846 rows × 3 columns</p>\n",
       "</div>"
      ],
      "text/plain": [
       "        lower_bound_ip_address  upper_bound_ip_address    country\n",
       "0                 1.677722e+07                16777471  Australia\n",
       "1                 1.677747e+07                16777727      China\n",
       "2                 1.677773e+07                16778239      China\n",
       "3                 1.677824e+07                16779263  Australia\n",
       "4                 1.677926e+07                16781311      China\n",
       "...                        ...                     ...        ...\n",
       "138841            3.758092e+09              3758093311  Hong Kong\n",
       "138842            3.758093e+09              3758094335      India\n",
       "138843            3.758095e+09              3758095871      China\n",
       "138844            3.758096e+09              3758096127  Singapore\n",
       "138845            3.758096e+09              3758096383  Australia\n",
       "\n",
       "[138846 rows x 3 columns]"
      ]
     },
     "execution_count": 81,
     "metadata": {},
     "output_type": "execute_result"
    }
   ],
   "source": [
    "df2 = pd.read_csv('data/IpAddress_to_Country.csv')\n",
    "df2"
   ]
  },
  {
   "cell_type": "code",
   "execution_count": 82,
   "metadata": {},
   "outputs": [],
   "source": [
    "#Cette solution à été sauvegardé sous 'save.csv' car très longue\n",
    "\n",
    "#conn = sqlite3.connect(\":memory:\") \n",
    "#df1.to_sql(\"df1\", conn, index=False)\n",
    "#df2.to_sql(\"df2\", conn, index=False)\n",
    "#qry = \"SELECT * FROM df1, df2 WHERE df1.ip_address >= df2.lower_bound_ip_address and df1.ip_address <= df2.upper_bound_ip_address\"\n",
    "#df3 = pd.read_sql_query(qry,conn)\n",
    "#df3"
   ]
  },
  {
   "cell_type": "code",
   "execution_count": 83,
   "metadata": {},
   "outputs": [],
   "source": [
    "#autre solution\n",
    "\n",
    "#def IP_to_country(ip) :\n",
    "#    try :\n",
    "#        return df2.country[(df2.lower_bound_ip_address <= ip)\n",
    "#                                & \n",
    "#                                (df2.upper_bound_ip_address >= ip)].iloc[0]\n",
    "#    except IndexError :\n",
    "#        return \"Unknown\"\n",
    "\n",
    "#df1[\"country\"] = df1.ip_address.apply(IP_to_country)"
   ]
  },
  {
   "cell_type": "code",
   "execution_count": 84,
   "metadata": {},
   "outputs": [],
   "source": [
    "#autre solution\n",
    "\n",
    "#voir pandasql"
   ]
  },
  {
   "cell_type": "code",
   "execution_count": 85,
   "metadata": {},
   "outputs": [
    {
     "data": {
      "text/html": [
       "<div>\n",
       "<style scoped>\n",
       "    .dataframe tbody tr th:only-of-type {\n",
       "        vertical-align: middle;\n",
       "    }\n",
       "\n",
       "    .dataframe tbody tr th {\n",
       "        vertical-align: top;\n",
       "    }\n",
       "\n",
       "    .dataframe thead th {\n",
       "        text-align: right;\n",
       "    }\n",
       "</style>\n",
       "<table border=\"1\" class=\"dataframe\">\n",
       "  <thead>\n",
       "    <tr style=\"text-align: right;\">\n",
       "      <th></th>\n",
       "      <th>Unnamed: 0</th>\n",
       "      <th>user_id</th>\n",
       "      <th>signup_time</th>\n",
       "      <th>purchase_time</th>\n",
       "      <th>purchase_value</th>\n",
       "      <th>device_id</th>\n",
       "      <th>source</th>\n",
       "      <th>browser</th>\n",
       "      <th>sex</th>\n",
       "      <th>age</th>\n",
       "      <th>ip_address</th>\n",
       "      <th>class</th>\n",
       "      <th>lower_bound_ip_address</th>\n",
       "      <th>upper_bound_ip_address</th>\n",
       "      <th>country</th>\n",
       "    </tr>\n",
       "  </thead>\n",
       "  <tbody>\n",
       "    <tr>\n",
       "      <th>0</th>\n",
       "      <td>0</td>\n",
       "      <td>22058</td>\n",
       "      <td>2015-02-24 22:55:49</td>\n",
       "      <td>2015-04-18 02:47:11</td>\n",
       "      <td>34</td>\n",
       "      <td>QVPSPJUOCKZAR</td>\n",
       "      <td>SEO</td>\n",
       "      <td>Chrome</td>\n",
       "      <td>M</td>\n",
       "      <td>39</td>\n",
       "      <td>7.327584e+08</td>\n",
       "      <td>0</td>\n",
       "      <td>7.298089e+08</td>\n",
       "      <td>734003199</td>\n",
       "      <td>Japan</td>\n",
       "    </tr>\n",
       "    <tr>\n",
       "      <th>1</th>\n",
       "      <td>1</td>\n",
       "      <td>333320</td>\n",
       "      <td>2015-06-07 20:39:50</td>\n",
       "      <td>2015-06-08 01:38:54</td>\n",
       "      <td>16</td>\n",
       "      <td>EOGFQPIZPYXFZ</td>\n",
       "      <td>Ads</td>\n",
       "      <td>Chrome</td>\n",
       "      <td>F</td>\n",
       "      <td>53</td>\n",
       "      <td>3.503114e+08</td>\n",
       "      <td>0</td>\n",
       "      <td>3.355443e+08</td>\n",
       "      <td>352321535</td>\n",
       "      <td>United States</td>\n",
       "    </tr>\n",
       "    <tr>\n",
       "      <th>2</th>\n",
       "      <td>2</td>\n",
       "      <td>1359</td>\n",
       "      <td>2015-01-01 18:52:44</td>\n",
       "      <td>2015-01-01 18:52:45</td>\n",
       "      <td>15</td>\n",
       "      <td>YSSKYOSJHPPLJ</td>\n",
       "      <td>SEO</td>\n",
       "      <td>Opera</td>\n",
       "      <td>M</td>\n",
       "      <td>53</td>\n",
       "      <td>2.621474e+09</td>\n",
       "      <td>1</td>\n",
       "      <td>2.621440e+09</td>\n",
       "      <td>2621505535</td>\n",
       "      <td>United States</td>\n",
       "    </tr>\n",
       "    <tr>\n",
       "      <th>3</th>\n",
       "      <td>3</td>\n",
       "      <td>221365</td>\n",
       "      <td>2015-07-21 07:09:52</td>\n",
       "      <td>2015-09-09 18:40:53</td>\n",
       "      <td>39</td>\n",
       "      <td>NAUITBZFJKHWW</td>\n",
       "      <td>Ads</td>\n",
       "      <td>Safari</td>\n",
       "      <td>M</td>\n",
       "      <td>45</td>\n",
       "      <td>4.155831e+08</td>\n",
       "      <td>0</td>\n",
       "      <td>4.154982e+08</td>\n",
       "      <td>415629311</td>\n",
       "      <td>United States</td>\n",
       "    </tr>\n",
       "    <tr>\n",
       "      <th>4</th>\n",
       "      <td>4</td>\n",
       "      <td>159135</td>\n",
       "      <td>2015-05-21 06:03:03</td>\n",
       "      <td>2015-07-09 08:05:14</td>\n",
       "      <td>42</td>\n",
       "      <td>ALEYXFXINSXLZ</td>\n",
       "      <td>Ads</td>\n",
       "      <td>Chrome</td>\n",
       "      <td>M</td>\n",
       "      <td>18</td>\n",
       "      <td>2.809315e+09</td>\n",
       "      <td>0</td>\n",
       "      <td>2.809266e+09</td>\n",
       "      <td>2809331711</td>\n",
       "      <td>Canada</td>\n",
       "    </tr>\n",
       "    <tr>\n",
       "      <th>...</th>\n",
       "      <td>...</td>\n",
       "      <td>...</td>\n",
       "      <td>...</td>\n",
       "      <td>...</td>\n",
       "      <td>...</td>\n",
       "      <td>...</td>\n",
       "      <td>...</td>\n",
       "      <td>...</td>\n",
       "      <td>...</td>\n",
       "      <td>...</td>\n",
       "      <td>...</td>\n",
       "      <td>...</td>\n",
       "      <td>...</td>\n",
       "      <td>...</td>\n",
       "      <td>...</td>\n",
       "    </tr>\n",
       "    <tr>\n",
       "      <th>129141</th>\n",
       "      <td>129141</td>\n",
       "      <td>360761</td>\n",
       "      <td>2015-02-10 06:39:44</td>\n",
       "      <td>2015-06-03 08:18:30</td>\n",
       "      <td>13</td>\n",
       "      <td>EFCFFMUKFRDHJ</td>\n",
       "      <td>SEO</td>\n",
       "      <td>Safari</td>\n",
       "      <td>F</td>\n",
       "      <td>42</td>\n",
       "      <td>8.740657e+08</td>\n",
       "      <td>0</td>\n",
       "      <td>8.724152e+08</td>\n",
       "      <td>889192447</td>\n",
       "      <td>United States</td>\n",
       "    </tr>\n",
       "    <tr>\n",
       "      <th>129142</th>\n",
       "      <td>129142</td>\n",
       "      <td>345170</td>\n",
       "      <td>2015-01-27 03:03:34</td>\n",
       "      <td>2015-03-29 00:30:47</td>\n",
       "      <td>43</td>\n",
       "      <td>XPSKTWGPWINLR</td>\n",
       "      <td>SEO</td>\n",
       "      <td>Chrome</td>\n",
       "      <td>M</td>\n",
       "      <td>28</td>\n",
       "      <td>3.451155e+09</td>\n",
       "      <td>1</td>\n",
       "      <td>3.451126e+09</td>\n",
       "      <td>3451387903</td>\n",
       "      <td>United States</td>\n",
       "    </tr>\n",
       "    <tr>\n",
       "      <th>129143</th>\n",
       "      <td>129143</td>\n",
       "      <td>274471</td>\n",
       "      <td>2015-05-15 17:43:29</td>\n",
       "      <td>2015-05-26 12:24:39</td>\n",
       "      <td>35</td>\n",
       "      <td>LYSFABUCPCGBA</td>\n",
       "      <td>SEO</td>\n",
       "      <td>Safari</td>\n",
       "      <td>M</td>\n",
       "      <td>32</td>\n",
       "      <td>2.439047e+09</td>\n",
       "      <td>0</td>\n",
       "      <td>2.436039e+09</td>\n",
       "      <td>2441084927</td>\n",
       "      <td>Netherlands</td>\n",
       "    </tr>\n",
       "    <tr>\n",
       "      <th>129144</th>\n",
       "      <td>129144</td>\n",
       "      <td>368416</td>\n",
       "      <td>2015-03-03 23:07:31</td>\n",
       "      <td>2015-05-20 07:07:47</td>\n",
       "      <td>40</td>\n",
       "      <td>MEQHCSJUBRBFE</td>\n",
       "      <td>SEO</td>\n",
       "      <td>IE</td>\n",
       "      <td>F</td>\n",
       "      <td>26</td>\n",
       "      <td>2.748471e+09</td>\n",
       "      <td>0</td>\n",
       "      <td>2.748449e+09</td>\n",
       "      <td>2748514303</td>\n",
       "      <td>Japan</td>\n",
       "    </tr>\n",
       "    <tr>\n",
       "      <th>129145</th>\n",
       "      <td>129145</td>\n",
       "      <td>207709</td>\n",
       "      <td>2015-07-09 20:06:07</td>\n",
       "      <td>2015-09-07 09:34:46</td>\n",
       "      <td>46</td>\n",
       "      <td>CMCXFGRHYSTVJ</td>\n",
       "      <td>SEO</td>\n",
       "      <td>Chrome</td>\n",
       "      <td>M</td>\n",
       "      <td>37</td>\n",
       "      <td>3.601175e+09</td>\n",
       "      <td>0</td>\n",
       "      <td>3.590324e+09</td>\n",
       "      <td>3607101439</td>\n",
       "      <td>United States</td>\n",
       "    </tr>\n",
       "  </tbody>\n",
       "</table>\n",
       "<p>129146 rows × 15 columns</p>\n",
       "</div>"
      ],
      "text/plain": [
       "        Unnamed: 0  user_id          signup_time        purchase_time  \\\n",
       "0                0    22058  2015-02-24 22:55:49  2015-04-18 02:47:11   \n",
       "1                1   333320  2015-06-07 20:39:50  2015-06-08 01:38:54   \n",
       "2                2     1359  2015-01-01 18:52:44  2015-01-01 18:52:45   \n",
       "3                3   221365  2015-07-21 07:09:52  2015-09-09 18:40:53   \n",
       "4                4   159135  2015-05-21 06:03:03  2015-07-09 08:05:14   \n",
       "...            ...      ...                  ...                  ...   \n",
       "129141      129141   360761  2015-02-10 06:39:44  2015-06-03 08:18:30   \n",
       "129142      129142   345170  2015-01-27 03:03:34  2015-03-29 00:30:47   \n",
       "129143      129143   274471  2015-05-15 17:43:29  2015-05-26 12:24:39   \n",
       "129144      129144   368416  2015-03-03 23:07:31  2015-05-20 07:07:47   \n",
       "129145      129145   207709  2015-07-09 20:06:07  2015-09-07 09:34:46   \n",
       "\n",
       "        purchase_value      device_id source browser sex  age    ip_address  \\\n",
       "0                   34  QVPSPJUOCKZAR    SEO  Chrome   M   39  7.327584e+08   \n",
       "1                   16  EOGFQPIZPYXFZ    Ads  Chrome   F   53  3.503114e+08   \n",
       "2                   15  YSSKYOSJHPPLJ    SEO   Opera   M   53  2.621474e+09   \n",
       "3                   39  NAUITBZFJKHWW    Ads  Safari   M   45  4.155831e+08   \n",
       "4                   42  ALEYXFXINSXLZ    Ads  Chrome   M   18  2.809315e+09   \n",
       "...                ...            ...    ...     ...  ..  ...           ...   \n",
       "129141              13  EFCFFMUKFRDHJ    SEO  Safari   F   42  8.740657e+08   \n",
       "129142              43  XPSKTWGPWINLR    SEO  Chrome   M   28  3.451155e+09   \n",
       "129143              35  LYSFABUCPCGBA    SEO  Safari   M   32  2.439047e+09   \n",
       "129144              40  MEQHCSJUBRBFE    SEO      IE   F   26  2.748471e+09   \n",
       "129145              46  CMCXFGRHYSTVJ    SEO  Chrome   M   37  3.601175e+09   \n",
       "\n",
       "        class  lower_bound_ip_address  upper_bound_ip_address        country  \n",
       "0           0            7.298089e+08               734003199          Japan  \n",
       "1           0            3.355443e+08               352321535  United States  \n",
       "2           1            2.621440e+09              2621505535  United States  \n",
       "3           0            4.154982e+08               415629311  United States  \n",
       "4           0            2.809266e+09              2809331711         Canada  \n",
       "...       ...                     ...                     ...            ...  \n",
       "129141      0            8.724152e+08               889192447  United States  \n",
       "129142      1            3.451126e+09              3451387903  United States  \n",
       "129143      0            2.436039e+09              2441084927    Netherlands  \n",
       "129144      0            2.748449e+09              2748514303          Japan  \n",
       "129145      0            3.590324e+09              3607101439  United States  \n",
       "\n",
       "[129146 rows x 15 columns]"
      ]
     },
     "execution_count": 85,
     "metadata": {},
     "output_type": "execute_result"
    }
   ],
   "source": [
    "df3 = pd.read_csv('save.csv')\n",
    "df3"
   ]
  },
  {
   "cell_type": "markdown",
   "metadata": {},
   "source": [
    "### Cleaning"
   ]
  },
  {
   "cell_type": "code",
   "execution_count": 86,
   "metadata": {},
   "outputs": [],
   "source": [
    "#drop unwanted columns\n",
    "df = df3.drop(columns=['lower_bound_ip_address', 'upper_bound_ip_address', 'user_id'])"
   ]
  },
  {
   "cell_type": "code",
   "execution_count": 87,
   "metadata": {},
   "outputs": [],
   "source": [
    "le = LE()\n",
    "df['source'] = le.fit_transform(df['source'])\n",
    "df['browser'] = le.fit_transform(df['browser'])\n",
    "df['sex'] = le.fit_transform(df['sex'])\n",
    "df['country'] = le.fit_transform(df['country'])\n",
    "df['device_id'] = le.fit_transform(df['device_id'])\n",
    "\n",
    "#a clean:\n",
    "\n",
    "#df['signup_time']\n",
    "#df['purchase_time']\n",
    "\n",
    "#en attendant\n",
    "df = df.drop(columns=['signup_time', 'purchase_time'])"
   ]
  },
  {
   "cell_type": "code",
   "execution_count": 88,
   "metadata": {},
   "outputs": [
    {
     "data": {
      "text/plain": [
       "False"
      ]
     },
     "execution_count": 88,
     "metadata": {},
     "output_type": "execute_result"
    }
   ],
   "source": [
    "df.isnull().values.any()"
   ]
  },
  {
   "cell_type": "markdown",
   "metadata": {},
   "source": [
    "### Isolation"
   ]
  },
  {
   "cell_type": "code",
   "execution_count": 89,
   "metadata": {},
   "outputs": [],
   "source": [
    "#Isolation\n",
    "#target_feature_name = 'target_feature'\n",
    "target_feature_name = 'class'\n",
    "Y = df[target_feature_name]\n",
    "X = df.drop(columns=target_feature_name)"
   ]
  },
  {
   "cell_type": "markdown",
   "metadata": {},
   "source": [
    "### Labels"
   ]
  },
  {
   "cell_type": "code",
   "execution_count": 90,
   "metadata": {},
   "outputs": [],
   "source": [
    "#Classes/Labels\n",
    "classes = Y.astype('category').cat.categories.tolist()"
   ]
  },
  {
   "cell_type": "markdown",
   "metadata": {},
   "source": [
    "## Model Building"
   ]
  },
  {
   "cell_type": "code",
   "execution_count": 91,
   "metadata": {},
   "outputs": [],
   "source": [
    "#TTS\n",
    "X_tr, X_te, Y_tr, Y_te = TTS(X, Y, stratify=Y, random_state=314)"
   ]
  },
  {
   "cell_type": "code",
   "execution_count": 92,
   "metadata": {},
   "outputs": [],
   "source": [
    "#Pipeline\n",
    "pipeline_details = [('PCA', PCA(random_state=20)),\n",
    "                    ('RF', RF())]\n",
    "pipeline = Pipeline(steps=pipeline_details)"
   ]
  },
  {
   "cell_type": "code",
   "execution_count": 93,
   "metadata": {},
   "outputs": [],
   "source": [
    "#GridSearchCV\n",
    "\n",
    "hyperparameters = {}\n",
    "hyperparameters['PCA__n_components'] = [i for i in range(1, 5)]\n",
    "hyperparameters['RF__n_estimators']  = [i for i in range(80, 120 +1, 10)]"
   ]
  },
  {
   "cell_type": "code",
   "execution_count": 94,
   "metadata": {},
   "outputs": [
    {
     "data": {
      "text/plain": [
       "{'PCA__n_components': [1, 2, 3, 4],\n",
       " 'RF__n_estimators': [80, 90, 100, 110, 120]}"
      ]
     },
     "execution_count": 94,
     "metadata": {},
     "output_type": "execute_result"
    }
   ],
   "source": [
    "hyperparameters"
   ]
  },
  {
   "cell_type": "code",
   "execution_count": null,
   "metadata": {},
   "outputs": [],
   "source": [
    "hyperparameter_search = GridSearchCV(pipeline,\n",
    "                                     hyperparameters,\n",
    "                                     scoring='accuracy', \n",
    "                                     cv=3)"
   ]
  },
  {
   "cell_type": "code",
   "execution_count": null,
   "metadata": {},
   "outputs": [],
   "source": [
    "hyperparameter_search.fit(X_tr, Y_tr)\n",
    "\n",
    "print('Meilleur score : {:.5f}'.format(hyperparameter_search.best_score_))\n",
    "print('Meilleur paramètres : {}'.format(hyperparameter_search.best_params_))"
   ]
  },
  {
   "cell_type": "code",
   "execution_count": null,
   "metadata": {},
   "outputs": [],
   "source": [
    "#PCA\n",
    "N=hyperparameter_search.best_params_['PCA__n_components']\n",
    "pca = PCA(n_components=N, random_state=20)\n",
    "pca.fit(X_tr);"
   ]
  },
  {
   "cell_type": "code",
   "execution_count": null,
   "metadata": {},
   "outputs": [],
   "source": [
    "#Transform\n",
    "X_tr_PCA = pca.transform(X_tr)\n",
    "X_te_PCA = pca.transform(X_te)"
   ]
  },
  {
   "cell_type": "code",
   "execution_count": null,
   "metadata": {},
   "outputs": [],
   "source": [
    "#RF\n",
    "N=hyperparameter_search.best_params_['RF__n_estimators']\n",
    "rf = RF(n_estimators=N)\n",
    "rf.fit(X_tr_PCA, Y_tr);"
   ]
  },
  {
   "cell_type": "code",
   "execution_count": null,
   "metadata": {},
   "outputs": [],
   "source": [
    "#Accuracy du training\n",
    "train_preds = rf.predict(X_tr_PCA)\n",
    "accuracy = lambda p, y : (p==y).sum()/len(y)\n",
    "print('Accuracy : {}'.format(accuracy(train_preds, Y_tr)))"
   ]
  },
  {
   "cell_type": "markdown",
   "metadata": {},
   "source": [
    "## Unlabelised Data"
   ]
  },
  {
   "cell_type": "code",
   "execution_count": null,
   "metadata": {},
   "outputs": [],
   "source": [
    "#Chargement\n",
    "#df = pd.read_csv(\"data/filename.csv\")\n",
    "unlabeled_df = pd.DataFrame(X_te_PCA)"
   ]
  },
  {
   "cell_type": "markdown",
   "metadata": {},
   "source": [
    "### Prediction"
   ]
  },
  {
   "cell_type": "code",
   "execution_count": null,
   "metadata": {},
   "outputs": [],
   "source": [
    "#RF\n",
    "preds = rf.predict(unlabeled_df)\n",
    "proba = rf.predict_proba(unlabeled_df)"
   ]
  },
  {
   "cell_type": "markdown",
   "metadata": {},
   "source": [
    "## Result"
   ]
  },
  {
   "cell_type": "code",
   "execution_count": null,
   "metadata": {},
   "outputs": [],
   "source": [
    "unlabeled_df = pd.DataFrame(X_te)\n",
    "unlabeled_df['Predictions'] = preds\n",
    "for i in range(0, len(proba[0])):\n",
    "    unlabeled_df[classes[i]] = proba[:, i]\n",
    "\n",
    "#for k in range(0, len(proba)):\n",
    "#    print('iris[', k, ']')\n",
    "#    for i in range(0, len(proba[0])):\n",
    "#        print('{} {}= {}'.format(classes[i], (10-len(classes[i]))*' ', proba[k][i]))\n",
    "\n",
    "unlabeled_df"
   ]
  },
  {
   "cell_type": "markdown",
   "metadata": {},
   "source": [
    "## Matrice de confusion"
   ]
  },
  {
   "cell_type": "code",
   "execution_count": null,
   "metadata": {},
   "outputs": [],
   "source": [
    "from sklearn.metrics import confusion_matrix\n",
    "def show_cm(cm, labels):\n",
    "    \"\"\"show confusion matrix\n",
    "    \"\"\"\n",
    "    df_cm = pd.DataFrame(cm, labels, labels)\n",
    "    sns.heatmap(df_cm, annot=True)\n",
    "    plt.show()"
   ]
  },
  {
   "cell_type": "code",
   "execution_count": null,
   "metadata": {},
   "outputs": [],
   "source": [
    "print(\"Matrice de confusion de l'entrainement :\")\n",
    "print('Accuracy : {}'.format(accuracy(train_preds, Y_tr)))\n",
    "cm_train = confusion_matrix(train_preds, Y_tr, labels=classes)\n",
    "show_cm(cm_train, classes)\n",
    "#Accuracy du training\n",
    "accuracy = lambda p, y : (p==y).sum()/len(y)"
   ]
  },
  {
   "cell_type": "code",
   "execution_count": null,
   "metadata": {
    "scrolled": true
   },
   "outputs": [],
   "source": [
    "print(\"Matrice de confusion du test :\")\n",
    "print('Accuracy : {}'.format(accuracy(preds, Y_te)))\n",
    "cm_test = confusion_matrix(preds, Y_te, labels=classes)\n",
    "show_cm(cm_test, classes)\n",
    "#Accuracy du test\n",
    "accuracy = lambda p, y : (p==y).sum()/len(y)"
   ]
  },
  {
   "cell_type": "markdown",
   "metadata": {},
   "source": [
    "## Pouvoir prédictif des features"
   ]
  },
  {
   "cell_type": "code",
   "execution_count": null,
   "metadata": {},
   "outputs": [],
   "source": [
    "rf = RF(n_estimators=100)\n",
    "rf.fit(X_tr, Y_tr)\n",
    "importances = rf.feature_importances_"
   ]
  },
  {
   "cell_type": "code",
   "execution_count": null,
   "metadata": {
    "scrolled": false
   },
   "outputs": [],
   "source": [
    "d = pd.DataFrame()\n",
    "d['features'] = X_tr.columns\n",
    "d['pouvoir_predictif'] = importances\n",
    "#for i in range (0, len(importances)):\n",
    "#    print('{}{} : {}'.format(X_tr.columns[i], ' '*(30-len(X_tr.columns[i])), importances[i]))\n",
    "print('Somme des pouvoirs predictif : {}'.format(d['pouvoir_predictif'].sum()))\n",
    "d['pouvoir_predictif'] = d['pouvoir_predictif'].apply(lambda v : v*100)\n",
    "d = d.sort_values(by='pouvoir_predictif', ascending=False)\n",
    "sns.barplot(d['pouvoir_predictif'], d['features']).set_title('Pouvoir predictif des features');"
   ]
  }
 ],
 "metadata": {
  "kernelspec": {
   "display_name": "Python 3",
   "language": "python",
   "name": "python3"
  },
  "language_info": {
   "codemirror_mode": {
    "name": "ipython",
    "version": 3
   },
   "file_extension": ".py",
   "mimetype": "text/x-python",
   "name": "python",
   "nbconvert_exporter": "python",
   "pygments_lexer": "ipython3",
   "version": "3.6.9"
  }
 },
 "nbformat": 4,
 "nbformat_minor": 2
}
